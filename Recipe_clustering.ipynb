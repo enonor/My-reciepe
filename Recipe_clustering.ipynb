{
 "cells": [
  {
   "cell_type": "code",
   "execution_count": 2,
   "metadata": {
    "id": "1oejWr5Aid7I"
   },
   "outputs": [],
   "source": [
    "import json\n",
    "import pandas as pd\n",
    "import matplotlib.pyplot as plt\n"
   ]
  },
  {
   "cell_type": "markdown",
   "metadata": {
    "id": "U98iAWeVn5bm"
   },
   "source": [
    "**Load Data Files**"
   ]
  },
  {
   "cell_type": "code",
   "execution_count": 3,
   "metadata": {
    "id": "L4iK7aBAikhz"
   },
   "outputs": [],
   "source": [
    "data_files = ['recipes_raw_nosource_ar.json', 'recipes_raw_nosource_epi.json', 'recipes_raw_nosource_fn.json']"
   ]
  },
  {
   "cell_type": "code",
   "execution_count": 4,
   "metadata": {
    "id": "T9wt5XkLizZs"
   },
   "outputs": [],
   "source": [
    "values = []\n",
    "for data_file in data_files:\n",
    "  with open(data_file, 'r') as f:\n",
    "    data = json.load(f)\n",
    "  for k, v in data.items():\n",
    "    values.append({'title': v.get('title', None), 'ingredients': v.get('ingredients', None), 'instructions': v.get('instructions', None), 'source': data_file})\n",
    "  \n",
    "df = pd.DataFrame(values)"
   ]
  },
  {
   "cell_type": "code",
   "execution_count": 141,
   "metadata": {},
   "outputs": [
    {
     "name": "stderr",
     "output_type": "stream",
     "text": [
      "/home/moti/ds_py/lib/python3.8/site-packages/ipykernel/ipkernel.py:283: DeprecationWarning: `should_run_async` will not call `transform_cell` automatically in the future. Please pass the result to `transformed_cell` argument and any exception that happen during thetransform in `preprocessing_exc_tuple` in IPython 7.17 and above.\n",
      "  and should_run_async(code)\n"
     ]
    },
    {
     "data": {
      "text/html": [
       "<div>\n",
       "<style scoped>\n",
       "    .dataframe tbody tr th:only-of-type {\n",
       "        vertical-align: middle;\n",
       "    }\n",
       "\n",
       "    .dataframe tbody tr th {\n",
       "        vertical-align: top;\n",
       "    }\n",
       "\n",
       "    .dataframe thead th {\n",
       "        text-align: right;\n",
       "    }\n",
       "</style>\n",
       "<table border=\"1\" class=\"dataframe\">\n",
       "  <thead>\n",
       "    <tr style=\"text-align: right;\">\n",
       "      <th></th>\n",
       "      <th>title</th>\n",
       "      <th>ingredients</th>\n",
       "      <th>instructions</th>\n",
       "      <th>source</th>\n",
       "    </tr>\n",
       "  </thead>\n",
       "  <tbody>\n",
       "    <tr>\n",
       "      <th>0</th>\n",
       "      <td>Slow Cooker Chicken and Dumplings</td>\n",
       "      <td>[4 skinless, boneless chicken breast halves AD...</td>\n",
       "      <td>Place the chicken, butter, soup, and onion in ...</td>\n",
       "      <td>recipes_raw_nosource_ar.json</td>\n",
       "    </tr>\n",
       "    <tr>\n",
       "      <th>1</th>\n",
       "      <td>Awesome Slow Cooker Pot Roast</td>\n",
       "      <td>[2 (10.75 ounce) cans condensed cream of mushr...</td>\n",
       "      <td>In a slow cooker, mix cream of mushroom soup, ...</td>\n",
       "      <td>recipes_raw_nosource_ar.json</td>\n",
       "    </tr>\n",
       "    <tr>\n",
       "      <th>2</th>\n",
       "      <td>Brown Sugar Meatloaf</td>\n",
       "      <td>[1/2 cup packed brown sugar ADVERTISEMENT, 1/2...</td>\n",
       "      <td>Preheat oven to 350 degrees F (175 degrees C)....</td>\n",
       "      <td>recipes_raw_nosource_ar.json</td>\n",
       "    </tr>\n",
       "    <tr>\n",
       "      <th>3</th>\n",
       "      <td>Best Chocolate Chip Cookies</td>\n",
       "      <td>[1 cup butter, softened ADVERTISEMENT, 1 cup w...</td>\n",
       "      <td>Preheat oven to 350 degrees F (175 degrees C)....</td>\n",
       "      <td>recipes_raw_nosource_ar.json</td>\n",
       "    </tr>\n",
       "    <tr>\n",
       "      <th>4</th>\n",
       "      <td>Homemade Mac and Cheese Casserole</td>\n",
       "      <td>[8 ounces whole wheat rotini pasta ADVERTISEME...</td>\n",
       "      <td>Preheat oven to 350 degrees F. Line a 2-quart ...</td>\n",
       "      <td>recipes_raw_nosource_ar.json</td>\n",
       "    </tr>\n",
       "  </tbody>\n",
       "</table>\n",
       "</div>"
      ],
      "text/plain": [
       "                               title  \\\n",
       "0  Slow Cooker Chicken and Dumplings   \n",
       "1      Awesome Slow Cooker Pot Roast   \n",
       "2               Brown Sugar Meatloaf   \n",
       "3        Best Chocolate Chip Cookies   \n",
       "4  Homemade Mac and Cheese Casserole   \n",
       "\n",
       "                                         ingredients  \\\n",
       "0  [4 skinless, boneless chicken breast halves AD...   \n",
       "1  [2 (10.75 ounce) cans condensed cream of mushr...   \n",
       "2  [1/2 cup packed brown sugar ADVERTISEMENT, 1/2...   \n",
       "3  [1 cup butter, softened ADVERTISEMENT, 1 cup w...   \n",
       "4  [8 ounces whole wheat rotini pasta ADVERTISEME...   \n",
       "\n",
       "                                        instructions  \\\n",
       "0  Place the chicken, butter, soup, and onion in ...   \n",
       "1  In a slow cooker, mix cream of mushroom soup, ...   \n",
       "2  Preheat oven to 350 degrees F (175 degrees C)....   \n",
       "3  Preheat oven to 350 degrees F (175 degrees C)....   \n",
       "4  Preheat oven to 350 degrees F. Line a 2-quart ...   \n",
       "\n",
       "                         source  \n",
       "0  recipes_raw_nosource_ar.json  \n",
       "1  recipes_raw_nosource_ar.json  \n",
       "2  recipes_raw_nosource_ar.json  \n",
       "3  recipes_raw_nosource_ar.json  \n",
       "4  recipes_raw_nosource_ar.json  "
      ]
     },
     "execution_count": 141,
     "metadata": {},
     "output_type": "execute_result"
    }
   ],
   "source": [
    "df.head()"
   ]
  },
  {
   "cell_type": "markdown",
   "metadata": {
    "id": "ezmRZ15YoEax"
   },
   "source": [
    "**Number of Records Per Data Source**"
   ]
  },
  {
   "cell_type": "code",
   "execution_count": 5,
   "metadata": {
    "colab": {
     "base_uri": "https://localhost:8080/"
    },
    "id": "Sn6gcNcMlGaa",
    "outputId": "7cd2613f-05fd-41a0-9fdc-bf286691c3bb"
   },
   "outputs": [
    {
     "data": {
      "text/plain": [
       "source\n",
       "recipes_raw_nosource_ar.json     39802\n",
       "recipes_raw_nosource_epi.json    25323\n",
       "recipes_raw_nosource_fn.json     60039\n",
       "dtype: int64"
      ]
     },
     "execution_count": 5,
     "metadata": {},
     "output_type": "execute_result"
    }
   ],
   "source": [
    "df.groupby('source').size()"
   ]
  },
  {
   "cell_type": "markdown",
   "metadata": {
    "id": "RSALCQ1ioNCl"
   },
   "source": [
    "**Percentage of Records with Missing Information**"
   ]
  },
  {
   "cell_type": "code",
   "execution_count": 6,
   "metadata": {
    "colab": {
     "base_uri": "https://localhost:8080/"
    },
    "id": "kARCiVXYl8jN",
    "outputId": "67638cf3-3c83-405c-9da6-4643a3f0334c"
   },
   "outputs": [
    {
     "data": {
      "text/plain": [
       "title           0.454604\n",
       "ingredients     0.413058\n",
       "instructions    0.552076\n",
       "dtype: float64"
      ]
     },
     "execution_count": 6,
     "metadata": {},
     "output_type": "execute_result"
    }
   ],
   "source": [
    "df[['title', 'ingredients', 'instructions']].isnull().sum() * 100 / len(df)"
   ]
  },
  {
   "cell_type": "code",
   "execution_count": 7,
   "metadata": {
    "colab": {
     "base_uri": "https://localhost:8080/"
    },
    "id": "ZgB0kHG6nZqo",
    "outputId": "cfe369f0-cfd1-4620-bc8f-3bd01b5a77d6"
   },
   "outputs": [
    {
     "name": "stdout",
     "output_type": "stream",
     "text": [
      "Number of records dropped: 691\n"
     ]
    }
   ],
   "source": [
    "df_nona = df.dropna().copy()\n",
    "print(f'Number of records dropped: {len(df)-len(df_nona)}')\n"
   ]
  },
  {
   "cell_type": "markdown",
   "metadata": {
    "id": "IUiOPFwXowgT"
   },
   "source": [
    "**Text Processing**\n",
    "\n",
    "---\n",
    "\n"
   ]
  },
  {
   "cell_type": "markdown",
   "metadata": {
    "id": "VFQVuXEFo-6P"
   },
   "source": [
    "Tokenzation:"
   ]
  },
  {
   "cell_type": "code",
   "execution_count": 8,
   "metadata": {
    "id": "eod3exxipBs9"
   },
   "outputs": [],
   "source": [
    "import spacy\n",
    "from functools import partial\n",
    "from tqdm import tqdm\n",
    "tqdm.pandas()\n",
    "import swifter"
   ]
  },
  {
   "cell_type": "code",
   "execution_count": 128,
   "metadata": {
    "colab": {
     "base_uri": "https://localhost:8080/",
     "height": 98,
     "referenced_widgets": [
      "9aef190501f847a59635b7293aa2d6f4",
      "038bae90c0904211abc51b5a9c0b0ee0",
      "e52bf7624e0e4cdebb08b4cc7f218069",
      "47d5e6c78b5f4e4eb4c5ce86cac59d3e",
      "397daf3e283b4ee4887c2e79400d23ff",
      "a810f68dc10f46ec9c7f46d29d2849c5",
      "675f31b9cc204abcadac75d9dd02b3d0",
      "0f935546a6904c438c7e1bc91b782e82",
      "dc60be6d3e9f491ea82e11d2a43f1e48",
      "e28a041d57a74f3eb50086776904a6ca",
      "61dd15dfe9854d7abe61bc23d4d3908c",
      "34f7e77ba1ad462e8281dfd3a7f1000d",
      "5abd47f3e3f14792bf8be4177adda4ab",
      "c422a786d0dc4e5d9b492763eef77d4e",
      "9ba02e58fbad4a8a922480dc5bd066f8",
      "5d71443b2a124a129de92dec9b92cfc7"
     ]
    },
    "id": "L-PtuA7_pDeJ",
    "outputId": "c18f8079-ac72-42b0-ecb8-672af7f58c92"
   },
   "outputs": [
    {
     "name": "stderr",
     "output_type": "stream",
     "text": [
      "/home/moti/ds_py/lib/python3.8/site-packages/ipykernel/ipkernel.py:283: DeprecationWarning: `should_run_async` will not call `transform_cell` automatically in the future. Please pass the result to `transformed_cell` argument and any exception that happen during thetransform in `preprocessing_exc_tuple` in IPython 7.17 and above.\n",
      "  and should_run_async(code)\n",
      "100%|██████████| 124473/124473 [01:40<00:00, 1243.25it/s]\n",
      "100%|██████████| 124473/124473 [13:54<00:00, 149.24it/s] \n",
      "100%|██████████| 124473/124473 [13:07<00:00, 158.10it/s]\n"
     ]
    }
   ],
   "source": [
    "my_stop_words = ['ounce', 'teaspoon', 'tablespoon', 'minutes', 'cup', 'glass', 'remove', 'add', 'plate', 'tablespoons', 'ounces', 'bowl', 'plastic']\n",
    "nlp = spacy.load(\"en_core_web_sm\", disable=[ \"ner\", \"parser\", \"tok2vec\"])\n",
    "def tokenize(nlp, text):\n",
    "  tok = nlp(text)\n",
    "  return [t.lemma_ for t in tok if (not t.is_stop) and t.is_alpha and t.lemma_ not in my_stop_words]\n",
    "tok_nlp = partial(tokenize, nlp)\n",
    "\n",
    "df_nona['tokenized_title'] = df_nona.progress_apply(lambda r: tok_nlp(r['title']), axis=1)\n",
    "df_nona['tokenized_ingredients'] = df_nona.progress_apply(lambda r: [tok_nlp(i) for i in r['ingredients']], axis=1)\n",
    "df_nona['tokenized_instructions'] = df_nona.progress_apply(lambda r: tok_nlp(r['instructions']), axis=1)"
   ]
  },
  {
   "cell_type": "code",
   "execution_count": 129,
   "metadata": {
    "colab": {
     "base_uri": "https://localhost:8080/",
     "height": 204
    },
    "id": "zldRVuToeYDd",
    "outputId": "7ef9a8b7-7b9e-4c54-d50a-cd7fefe69bdc"
   },
   "outputs": [
    {
     "name": "stderr",
     "output_type": "stream",
     "text": [
      "/home/moti/ds_py/lib/python3.8/site-packages/ipykernel/ipkernel.py:283: DeprecationWarning: `should_run_async` will not call `transform_cell` automatically in the future. Please pass the result to `transformed_cell` argument and any exception that happen during thetransform in `preprocessing_exc_tuple` in IPython 7.17 and above.\n",
      "  and should_run_async(code)\n"
     ]
    }
   ],
   "source": [
    "import itertools\n",
    "\n",
    "df_nona['all_tokenized'] = df_nona.apply(lambda x: x['tokenized_title'] + list(itertools.chain.from_iterable(x['tokenized_ingredients'])) + x['tokenized_instructions'], axis=1)"
   ]
  },
  {
   "cell_type": "code",
   "execution_count": 142,
   "metadata": {},
   "outputs": [
    {
     "name": "stderr",
     "output_type": "stream",
     "text": [
      "/home/moti/ds_py/lib/python3.8/site-packages/ipykernel/ipkernel.py:283: DeprecationWarning: `should_run_async` will not call `transform_cell` automatically in the future. Please pass the result to `transformed_cell` argument and any exception that happen during thetransform in `preprocessing_exc_tuple` in IPython 7.17 and above.\n",
      "  and should_run_async(code)\n"
     ]
    },
    {
     "data": {
      "text/html": [
       "<div>\n",
       "<style scoped>\n",
       "    .dataframe tbody tr th:only-of-type {\n",
       "        vertical-align: middle;\n",
       "    }\n",
       "\n",
       "    .dataframe tbody tr th {\n",
       "        vertical-align: top;\n",
       "    }\n",
       "\n",
       "    .dataframe thead th {\n",
       "        text-align: right;\n",
       "    }\n",
       "</style>\n",
       "<table border=\"1\" class=\"dataframe\">\n",
       "  <thead>\n",
       "    <tr style=\"text-align: right;\">\n",
       "      <th></th>\n",
       "      <th>title</th>\n",
       "      <th>ingredients</th>\n",
       "      <th>instructions</th>\n",
       "      <th>source</th>\n",
       "      <th>tokenized_title</th>\n",
       "      <th>tokenized_ingredients</th>\n",
       "      <th>tokenized_instructions</th>\n",
       "      <th>all_tokenized</th>\n",
       "      <th>bow</th>\n",
       "    </tr>\n",
       "  </thead>\n",
       "  <tbody>\n",
       "    <tr>\n",
       "      <th>0</th>\n",
       "      <td>Slow Cooker Chicken and Dumplings</td>\n",
       "      <td>[4 skinless, boneless chicken breast halves AD...</td>\n",
       "      <td>Place the chicken, butter, soup, and onion in ...</td>\n",
       "      <td>recipes_raw_nosource_ar.json</td>\n",
       "      <td>[slow, cooker, chicken, dumplings]</td>\n",
       "      <td>[[skinless, boneless, chicken, breast, halves,...</td>\n",
       "      <td>[place, chicken, butter, soup, onion, slow, co...</td>\n",
       "      <td>[slow, cooker, chicken, dumplings, skinless, b...</td>\n",
       "      <td>[(0, 6), (1, 2), (2, 1), (3, 1), (4, 2), (5, 1...</td>\n",
       "    </tr>\n",
       "    <tr>\n",
       "      <th>1</th>\n",
       "      <td>Awesome Slow Cooker Pot Roast</td>\n",
       "      <td>[2 (10.75 ounce) cans condensed cream of mushr...</td>\n",
       "      <td>In a slow cooker, mix cream of mushroom soup, ...</td>\n",
       "      <td>recipes_raw_nosource_ar.json</td>\n",
       "      <td>[awesome, slow, cooker, pot, roast]</td>\n",
       "      <td>[[cans, condensed, cream, mushroom, soup, adve...</td>\n",
       "      <td>[slow, cooker, mix, cream, mushroom, soup, dry...</td>\n",
       "      <td>[awesome, slow, cooker, pot, roast, cans, cond...</td>\n",
       "      <td>[(0, 5), (5, 1), (8, 1), (9, 1), (10, 3), (12,...</td>\n",
       "    </tr>\n",
       "    <tr>\n",
       "      <th>2</th>\n",
       "      <td>Brown Sugar Meatloaf</td>\n",
       "      <td>[1/2 cup packed brown sugar ADVERTISEMENT, 1/2...</td>\n",
       "      <td>Preheat oven to 350 degrees F (175 degrees C)....</td>\n",
       "      <td>recipes_raw_nosource_ar.json</td>\n",
       "      <td>[brown, sugar, meatloaf]</td>\n",
       "      <td>[[packed, brown, sugar, advertisement], [ketch...</td>\n",
       "      <td>[preheat, oven, degrees, f, degrees, c, lightl...</td>\n",
       "      <td>[brown, sugar, meatloaf, packed, brown, sugar,...</td>\n",
       "      <td>[(0, 11), (17, 1), (22, 1), (25, 1), (39, 1), ...</td>\n",
       "    </tr>\n",
       "    <tr>\n",
       "      <th>3</th>\n",
       "      <td>Best Chocolate Chip Cookies</td>\n",
       "      <td>[1 cup butter, softened ADVERTISEMENT, 1 cup w...</td>\n",
       "      <td>Preheat oven to 350 degrees F (175 degrees C)....</td>\n",
       "      <td>recipes_raw_nosource_ar.json</td>\n",
       "      <td>[best, chocolate, chip, cookies]</td>\n",
       "      <td>[[butter, softened, advertisement], [white, su...</td>\n",
       "      <td>[preheat, oven, degrees, f, degrees, c, cream,...</td>\n",
       "      <td>[best, chocolate, chip, cookies, butter, softe...</td>\n",
       "      <td>[(0, 12), (4, 2), (12, 1), (33, 2), (36, 2), (...</td>\n",
       "    </tr>\n",
       "    <tr>\n",
       "      <th>4</th>\n",
       "      <td>Homemade Mac and Cheese Casserole</td>\n",
       "      <td>[8 ounces whole wheat rotini pasta ADVERTISEME...</td>\n",
       "      <td>Preheat oven to 350 degrees F. Line a 2-quart ...</td>\n",
       "      <td>recipes_raw_nosource_ar.json</td>\n",
       "      <td>[homemade, mac, cheese, casserole]</td>\n",
       "      <td>[[wheat, rotini, pasta, advertisement], [cups,...</td>\n",
       "      <td>[preheat, oven, degrees, line, quart, casserol...</td>\n",
       "      <td>[homemade, mac, cheese, casserole, wheat, roti...</td>\n",
       "      <td>[(0, 14), (4, 3), (9, 3), (12, 2), (22, 2), (2...</td>\n",
       "    </tr>\n",
       "  </tbody>\n",
       "</table>\n",
       "</div>"
      ],
      "text/plain": [
       "                               title  \\\n",
       "0  Slow Cooker Chicken and Dumplings   \n",
       "1      Awesome Slow Cooker Pot Roast   \n",
       "2               Brown Sugar Meatloaf   \n",
       "3        Best Chocolate Chip Cookies   \n",
       "4  Homemade Mac and Cheese Casserole   \n",
       "\n",
       "                                         ingredients  \\\n",
       "0  [4 skinless, boneless chicken breast halves AD...   \n",
       "1  [2 (10.75 ounce) cans condensed cream of mushr...   \n",
       "2  [1/2 cup packed brown sugar ADVERTISEMENT, 1/2...   \n",
       "3  [1 cup butter, softened ADVERTISEMENT, 1 cup w...   \n",
       "4  [8 ounces whole wheat rotini pasta ADVERTISEME...   \n",
       "\n",
       "                                        instructions  \\\n",
       "0  Place the chicken, butter, soup, and onion in ...   \n",
       "1  In a slow cooker, mix cream of mushroom soup, ...   \n",
       "2  Preheat oven to 350 degrees F (175 degrees C)....   \n",
       "3  Preheat oven to 350 degrees F (175 degrees C)....   \n",
       "4  Preheat oven to 350 degrees F. Line a 2-quart ...   \n",
       "\n",
       "                         source                      tokenized_title  \\\n",
       "0  recipes_raw_nosource_ar.json   [slow, cooker, chicken, dumplings]   \n",
       "1  recipes_raw_nosource_ar.json  [awesome, slow, cooker, pot, roast]   \n",
       "2  recipes_raw_nosource_ar.json             [brown, sugar, meatloaf]   \n",
       "3  recipes_raw_nosource_ar.json     [best, chocolate, chip, cookies]   \n",
       "4  recipes_raw_nosource_ar.json   [homemade, mac, cheese, casserole]   \n",
       "\n",
       "                               tokenized_ingredients  \\\n",
       "0  [[skinless, boneless, chicken, breast, halves,...   \n",
       "1  [[cans, condensed, cream, mushroom, soup, adve...   \n",
       "2  [[packed, brown, sugar, advertisement], [ketch...   \n",
       "3  [[butter, softened, advertisement], [white, su...   \n",
       "4  [[wheat, rotini, pasta, advertisement], [cups,...   \n",
       "\n",
       "                              tokenized_instructions  \\\n",
       "0  [place, chicken, butter, soup, onion, slow, co...   \n",
       "1  [slow, cooker, mix, cream, mushroom, soup, dry...   \n",
       "2  [preheat, oven, degrees, f, degrees, c, lightl...   \n",
       "3  [preheat, oven, degrees, f, degrees, c, cream,...   \n",
       "4  [preheat, oven, degrees, line, quart, casserol...   \n",
       "\n",
       "                                       all_tokenized  \\\n",
       "0  [slow, cooker, chicken, dumplings, skinless, b...   \n",
       "1  [awesome, slow, cooker, pot, roast, cans, cond...   \n",
       "2  [brown, sugar, meatloaf, packed, brown, sugar,...   \n",
       "3  [best, chocolate, chip, cookies, butter, softe...   \n",
       "4  [homemade, mac, cheese, casserole, wheat, roti...   \n",
       "\n",
       "                                                 bow  \n",
       "0  [(0, 6), (1, 2), (2, 1), (3, 1), (4, 2), (5, 1...  \n",
       "1  [(0, 5), (5, 1), (8, 1), (9, 1), (10, 3), (12,...  \n",
       "2  [(0, 11), (17, 1), (22, 1), (25, 1), (39, 1), ...  \n",
       "3  [(0, 12), (4, 2), (12, 1), (33, 2), (36, 2), (...  \n",
       "4  [(0, 14), (4, 3), (9, 3), (12, 2), (22, 2), (2...  "
      ]
     },
     "execution_count": 142,
     "metadata": {},
     "output_type": "execute_result"
    }
   ],
   "source": [
    "df_nona.head()"
   ]
  },
  {
   "cell_type": "code",
   "execution_count": 130,
   "metadata": {},
   "outputs": [
    {
     "name": "stderr",
     "output_type": "stream",
     "text": [
      "/home/moti/ds_py/lib/python3.8/site-packages/ipykernel/ipkernel.py:283: DeprecationWarning: `should_run_async` will not call `transform_cell` automatically in the future. Please pass the result to `transformed_cell` argument and any exception that happen during thetransform in `preprocessing_exc_tuple` in IPython 7.17 and above.\n",
      "  and should_run_async(code)\n"
     ]
    }
   ],
   "source": [
    "from gensim.test.utils import common_texts\n",
    "\n",
    "from gensim.corpora.dictionary import Dictionary\n",
    "from gensim.models.ldamodel import LdaModel"
   ]
  },
  {
   "cell_type": "code",
   "execution_count": 131,
   "metadata": {},
   "outputs": [
    {
     "name": "stderr",
     "output_type": "stream",
     "text": [
      "/home/moti/ds_py/lib/python3.8/site-packages/ipykernel/ipkernel.py:283: DeprecationWarning: `should_run_async` will not call `transform_cell` automatically in the future. Please pass the result to `transformed_cell` argument and any exception that happen during thetransform in `preprocessing_exc_tuple` in IPython 7.17 and above.\n",
      "  and should_run_async(code)\n"
     ]
    }
   ],
   "source": [
    "common_dictionary = Dictionary(df_nona['all_tokenized'])\n",
    "\n",
    "df_nona['bow'] = [common_dictionary.doc2bow(text) for text in df_nona['all_tokenized']]\n",
    "\n",
    "lda = LdaModel(df_nona['bow'], num_topics=20)"
   ]
  },
  {
   "cell_type": "code",
   "execution_count": 134,
   "metadata": {},
   "outputs": [
    {
     "name": "stderr",
     "output_type": "stream",
     "text": [
      "/home/moti/ds_py/lib/python3.8/site-packages/ipykernel/ipkernel.py:283: DeprecationWarning: `should_run_async` will not call `transform_cell` automatically in the future. Please pass the result to `transformed_cell` argument and any exception that happen during thetransform in `preprocessing_exc_tuple` in IPython 7.17 and above.\n",
      "  and should_run_async(code)\n"
     ]
    }
   ],
   "source": [
    "def format_topics_sentences(ldamodel, corpus, texts, common_dictionary):\n",
    "    # Init output\n",
    "    sent_topics_df = pd.DataFrame()\n",
    "\n",
    "    # Get main topic in each document\n",
    "    for i, row_list in tqdm(enumerate(ldamodel[corpus]), total=len(corpus)):\n",
    "        row = row_list[0] if ldamodel.per_word_topics else row_list            \n",
    "        # print(row)\n",
    "        row = sorted(row, key=lambda x: (x[1]), reverse=True)\n",
    "        # Get the Dominant topic, Perc Contribution and Keywords for each document\n",
    "        for j, (topic_num, prop_topic) in enumerate(row):\n",
    "            if j == 0:  # => dominant topic\n",
    "                wp = ldamodel.show_topic(topic_num)\n",
    "                sent_topics_df = sent_topics_df.append(pd.Series([int(topic_num), round(prop_topic,4)]), ignore_index=True)\n",
    "            else:\n",
    "                break\n",
    "    sent_topics_df.columns = ['Dominant_Topic', 'Perc_Contribution']\n",
    "\n",
    "    # Add original text to the end of the output\n",
    "    contents = pd.Series(texts)\n",
    "    sent_topics_df = pd.concat([sent_topics_df, contents], axis=1)\n",
    "    return(sent_topics_df)"
   ]
  },
  {
   "cell_type": "code",
   "execution_count": 135,
   "metadata": {},
   "outputs": [
    {
     "name": "stderr",
     "output_type": "stream",
     "text": [
      "/home/moti/ds_py/lib/python3.8/site-packages/ipykernel/ipkernel.py:283: DeprecationWarning: `should_run_async` will not call `transform_cell` automatically in the future. Please pass the result to `transformed_cell` argument and any exception that happen during thetransform in `preprocessing_exc_tuple` in IPython 7.17 and above.\n",
      "  and should_run_async(code)\n",
      "100%|██████████| 124473/124473 [18:55<00:00, 109.60it/s]\n"
     ]
    }
   ],
   "source": [
    "topic_documents = format_topics_sentences(lda, df_nona['bow'], df_nona['title'], common_dictionary)"
   ]
  },
  {
   "cell_type": "code",
   "execution_count": 144,
   "metadata": {},
   "outputs": [
    {
     "name": "stderr",
     "output_type": "stream",
     "text": [
      "/home/moti/ds_py/lib/python3.8/site-packages/ipykernel/ipkernel.py:283: DeprecationWarning: `should_run_async` will not call `transform_cell` automatically in the future. Please pass the result to `transformed_cell` argument and any exception that happen during thetransform in `preprocessing_exc_tuple` in IPython 7.17 and above.\n",
      "  and should_run_async(code)\n"
     ]
    },
    {
     "data": {
      "text/html": [
       "<div>\n",
       "<style scoped>\n",
       "    .dataframe tbody tr th:only-of-type {\n",
       "        vertical-align: middle;\n",
       "    }\n",
       "\n",
       "    .dataframe tbody tr th {\n",
       "        vertical-align: top;\n",
       "    }\n",
       "\n",
       "    .dataframe thead th {\n",
       "        text-align: right;\n",
       "    }\n",
       "</style>\n",
       "<table border=\"1\" class=\"dataframe\">\n",
       "  <thead>\n",
       "    <tr style=\"text-align: right;\">\n",
       "      <th></th>\n",
       "      <th>Dominant_Topic</th>\n",
       "      <th>Perc_Contribution</th>\n",
       "      <th>title</th>\n",
       "    </tr>\n",
       "  </thead>\n",
       "  <tbody>\n",
       "    <tr>\n",
       "      <th>0</th>\n",
       "      <td>7.0</td>\n",
       "      <td>0.4191</td>\n",
       "      <td>Slow Cooker Chicken and Dumplings</td>\n",
       "    </tr>\n",
       "    <tr>\n",
       "      <th>1</th>\n",
       "      <td>8.0</td>\n",
       "      <td>0.3497</td>\n",
       "      <td>Awesome Slow Cooker Pot Roast</td>\n",
       "    </tr>\n",
       "    <tr>\n",
       "      <th>2</th>\n",
       "      <td>12.0</td>\n",
       "      <td>0.5828</td>\n",
       "      <td>Brown Sugar Meatloaf</td>\n",
       "    </tr>\n",
       "    <tr>\n",
       "      <th>3</th>\n",
       "      <td>1.0</td>\n",
       "      <td>0.7103</td>\n",
       "      <td>Best Chocolate Chip Cookies</td>\n",
       "    </tr>\n",
       "    <tr>\n",
       "      <th>4</th>\n",
       "      <td>6.0</td>\n",
       "      <td>0.3443</td>\n",
       "      <td>Homemade Mac and Cheese Casserole</td>\n",
       "    </tr>\n",
       "    <tr>\n",
       "      <th>...</th>\n",
       "      <td>...</td>\n",
       "      <td>...</td>\n",
       "      <td>...</td>\n",
       "    </tr>\n",
       "    <tr>\n",
       "      <th>124468</th>\n",
       "      <td>17.0</td>\n",
       "      <td>0.3092</td>\n",
       "      <td>Tuna Tostada with Watermelon Slaw</td>\n",
       "    </tr>\n",
       "    <tr>\n",
       "      <th>124469</th>\n",
       "      <td>19.0</td>\n",
       "      <td>0.4022</td>\n",
       "      <td>Apple-Raspberry Crumb Bars</td>\n",
       "    </tr>\n",
       "    <tr>\n",
       "      <th>124470</th>\n",
       "      <td>19.0</td>\n",
       "      <td>0.3718</td>\n",
       "      <td>Grilled Pork Tenderloin with a Basic Dry Rub</td>\n",
       "    </tr>\n",
       "    <tr>\n",
       "      <th>124471</th>\n",
       "      <td>16.0</td>\n",
       "      <td>0.5981</td>\n",
       "      <td>Basil Chive Red Potato Mash</td>\n",
       "    </tr>\n",
       "    <tr>\n",
       "      <th>124472</th>\n",
       "      <td>19.0</td>\n",
       "      <td>0.3389</td>\n",
       "      <td>Mushroom and Pea Quinoa Risotto</td>\n",
       "    </tr>\n",
       "  </tbody>\n",
       "</table>\n",
       "<p>123788 rows × 3 columns</p>\n",
       "</div>"
      ],
      "text/plain": [
       "        Dominant_Topic  Perc_Contribution  \\\n",
       "0                  7.0             0.4191   \n",
       "1                  8.0             0.3497   \n",
       "2                 12.0             0.5828   \n",
       "3                  1.0             0.7103   \n",
       "4                  6.0             0.3443   \n",
       "...                ...                ...   \n",
       "124468            17.0             0.3092   \n",
       "124469            19.0             0.4022   \n",
       "124470            19.0             0.3718   \n",
       "124471            16.0             0.5981   \n",
       "124472            19.0             0.3389   \n",
       "\n",
       "                                               title  \n",
       "0                  Slow Cooker Chicken and Dumplings  \n",
       "1                      Awesome Slow Cooker Pot Roast  \n",
       "2                               Brown Sugar Meatloaf  \n",
       "3                        Best Chocolate Chip Cookies  \n",
       "4                  Homemade Mac and Cheese Casserole  \n",
       "...                                              ...  \n",
       "124468             Tuna Tostada with Watermelon Slaw  \n",
       "124469                    Apple-Raspberry Crumb Bars  \n",
       "124470  Grilled Pork Tenderloin with a Basic Dry Rub  \n",
       "124471                   Basil Chive Red Potato Mash  \n",
       "124472               Mushroom and Pea Quinoa Risotto  \n",
       "\n",
       "[123788 rows x 3 columns]"
      ]
     },
     "execution_count": 144,
     "metadata": {},
     "output_type": "execute_result"
    }
   ],
   "source": [
    "topic_documents.dropna()"
   ]
  },
  {
   "cell_type": "code",
   "execution_count": 136,
   "metadata": {},
   "outputs": [
    {
     "name": "stderr",
     "output_type": "stream",
     "text": [
      "/home/moti/ds_py/lib/python3.8/site-packages/ipykernel/ipkernel.py:283: DeprecationWarning: `should_run_async` will not call `transform_cell` automatically in the future. Please pass the result to `transformed_cell` argument and any exception that happen during thetransform in `preprocessing_exc_tuple` in IPython 7.17 and above.\n",
      "  and should_run_async(code)\n"
     ]
    }
   ],
   "source": [
    "def select_top(group, top=10, column=\"Perc_Contribution\"):\n",
    "    return group.sort_values(column, ascending=False).iloc[0:top]\n",
    "topk_per_topic = topic_documents.groupby('Dominant_Topic').apply(select_top).reset_index(drop=True)\n"
   ]
  },
  {
   "cell_type": "code",
   "execution_count": 145,
   "metadata": {},
   "outputs": [
    {
     "name": "stderr",
     "output_type": "stream",
     "text": [
      "/home/moti/ds_py/lib/python3.8/site-packages/ipykernel/ipkernel.py:283: DeprecationWarning: `should_run_async` will not call `transform_cell` automatically in the future. Please pass the result to `transformed_cell` argument and any exception that happen during thetransform in `preprocessing_exc_tuple` in IPython 7.17 and above.\n",
      "  and should_run_async(code)\n"
     ]
    },
    {
     "data": {
      "text/html": [
       "<div>\n",
       "<style scoped>\n",
       "    .dataframe tbody tr th:only-of-type {\n",
       "        vertical-align: middle;\n",
       "    }\n",
       "\n",
       "    .dataframe tbody tr th {\n",
       "        vertical-align: top;\n",
       "    }\n",
       "\n",
       "    .dataframe thead th {\n",
       "        text-align: right;\n",
       "    }\n",
       "</style>\n",
       "<table border=\"1\" class=\"dataframe\">\n",
       "  <thead>\n",
       "    <tr style=\"text-align: right;\">\n",
       "      <th></th>\n",
       "      <th>Dominant_Topic</th>\n",
       "      <th>Perc_Contribution</th>\n",
       "      <th>title</th>\n",
       "    </tr>\n",
       "  </thead>\n",
       "  <tbody>\n",
       "    <tr>\n",
       "      <th>70</th>\n",
       "      <td>7.0</td>\n",
       "      <td>0.7871</td>\n",
       "      <td>Poulet de Provencal</td>\n",
       "    </tr>\n",
       "    <tr>\n",
       "      <th>71</th>\n",
       "      <td>7.0</td>\n",
       "      <td>0.7819</td>\n",
       "      <td>Chicken Taco Filling</td>\n",
       "    </tr>\n",
       "    <tr>\n",
       "      <th>72</th>\n",
       "      <td>7.0</td>\n",
       "      <td>0.7684</td>\n",
       "      <td>Pineapple-Orange Punch</td>\n",
       "    </tr>\n",
       "    <tr>\n",
       "      <th>73</th>\n",
       "      <td>7.0</td>\n",
       "      <td>0.7667</td>\n",
       "      <td>Baked Fettuccine Lasagna</td>\n",
       "    </tr>\n",
       "    <tr>\n",
       "      <th>74</th>\n",
       "      <td>7.0</td>\n",
       "      <td>0.7554</td>\n",
       "      <td>Slow Cooker Adobo Chicken</td>\n",
       "    </tr>\n",
       "    <tr>\n",
       "      <th>75</th>\n",
       "      <td>7.0</td>\n",
       "      <td>0.7320</td>\n",
       "      <td>Honey-Garlic Slow Cooker Chicken Thighs</td>\n",
       "    </tr>\n",
       "    <tr>\n",
       "      <th>76</th>\n",
       "      <td>7.0</td>\n",
       "      <td>0.7095</td>\n",
       "      <td>Curry Chicken Salad</td>\n",
       "    </tr>\n",
       "    <tr>\n",
       "      <th>77</th>\n",
       "      <td>7.0</td>\n",
       "      <td>0.6952</td>\n",
       "      <td>A Good Easy Garlic Chicken</td>\n",
       "    </tr>\n",
       "    <tr>\n",
       "      <th>78</th>\n",
       "      <td>7.0</td>\n",
       "      <td>0.6762</td>\n",
       "      <td>Tincho Tropical</td>\n",
       "    </tr>\n",
       "    <tr>\n",
       "      <th>79</th>\n",
       "      <td>7.0</td>\n",
       "      <td>0.6753</td>\n",
       "      <td>Slow Cooker Honey Garlic Chicken</td>\n",
       "    </tr>\n",
       "  </tbody>\n",
       "</table>\n",
       "</div>"
      ],
      "text/plain": [
       "    Dominant_Topic  Perc_Contribution                                    title\n",
       "70             7.0             0.7871                      Poulet de Provencal\n",
       "71             7.0             0.7819                     Chicken Taco Filling\n",
       "72             7.0             0.7684                   Pineapple-Orange Punch\n",
       "73             7.0             0.7667                 Baked Fettuccine Lasagna\n",
       "74             7.0             0.7554                Slow Cooker Adobo Chicken\n",
       "75             7.0             0.7320  Honey-Garlic Slow Cooker Chicken Thighs\n",
       "76             7.0             0.7095                      Curry Chicken Salad\n",
       "77             7.0             0.6952               A Good Easy Garlic Chicken\n",
       "78             7.0             0.6762                          Tincho Tropical\n",
       "79             7.0             0.6753         Slow Cooker Honey Garlic Chicken"
      ]
     },
     "execution_count": 145,
     "metadata": {},
     "output_type": "execute_result"
    }
   ],
   "source": [
    "topk_per_topic[topk_per_topic.Dominant_Topic == 7]"
   ]
  },
  {
   "cell_type": "code",
   "execution_count": 138,
   "metadata": {},
   "outputs": [
    {
     "name": "stderr",
     "output_type": "stream",
     "text": [
      "/home/moti/ds_py/lib/python3.8/site-packages/ipykernel/ipkernel.py:283: DeprecationWarning: `should_run_async` will not call `transform_cell` automatically in the future. Please pass the result to `transformed_cell` argument and any exception that happen during thetransform in `preprocessing_exc_tuple` in IPython 7.17 and above.\n",
      "  and should_run_async(code)\n"
     ]
    },
    {
     "data": {
      "image/png": "[encoded data removed]",
      "text/plain": [
       "<Figure size 720x720 with 10 Axes>"
      ]
     },
     "metadata": {
      "needs_background": "light"
     },
     "output_type": "display_data"
    }
   ],
   "source": [
    "#Display most coherent topics (top 10)\n",
    "\n",
    "from matplotlib import pyplot as plt\n",
    "from wordcloud import WordCloud, STOPWORDS\n",
    "import matplotlib.colors as mcolors\n",
    "\n",
    "cols = [color for name, color in mcolors.TABLEAU_COLORS.items()]  # more colors: 'mcolors.XKCD_COLORS'\n",
    "\n",
    "cloud = WordCloud(stopwords=nlp.Defaults.stop_words & set(my_stop_words),\n",
    "                  background_color='white',\n",
    "                  width=2500,\n",
    "                  height=1800,\n",
    "                  max_words=10,\n",
    "                  colormap='tab10',\n",
    "                  color_func=lambda *args, **kwargs: cols[i],\n",
    "                  prefer_horizontal=1.0)\n",
    "\n",
    "topics = lda.top_topics(corpus=df_nona['bow'], dictionary=common_dictionary)\n",
    "\n",
    "fig, axes = plt.subplots(5, 2, figsize=(10,10), sharex=True, sharey=True)\n",
    "fig.suptitle(\"10 most coherent topics\")\n",
    "for i, ax in enumerate(axes.flatten()):\n",
    "    fig.add_subplot(ax)\n",
    "    topic_words = topics[i][0]\n",
    "    topic_words = {common_dictionary[int(w)]: p for p,w in topic_words}\n",
    "    cloud.generate_from_frequencies(topic_words, max_font_size=300)\n",
    "    plt.gca().imshow(cloud)\n",
    "    plt.gca().set_title('Topic ' + str(i), fontdict=dict(size=16))\n",
    "    plt.gca().axis('off')\n",
    "\n",
    "\n",
    "plt.subplots_adjust(wspace=0, hspace=0)\n",
    "plt.axis('off')\n",
    "plt.margins(x=0, y=0)\n",
    "plt.tight_layout()\n",
    "plt.show()"
   ]
  }
 ],
 "metadata": {
  "colab": {
   "collapsed_sections": [],
   "name": "Recipe clustering",
   "provenance": []
  },
  "kernelspec": {
   "display_name": "Python 3",
   "language": "python",
   "name": "python3"
  },
  "language_info": {
   "codemirror_mode": {
    "name": "ipython",
    "version": 3
   },
   "file_extension": ".py",
   "mimetype": "text/x-python",
   "name": "python",
   "nbconvert_exporter": "python",
   "pygments_lexer": "ipython3",
   "version": "3.8.5"
  },
  "widgets": {
   "application/vnd.jupyter.widget-state+json": {
    "038bae90c0904211abc51b5a9c0b0ee0": {
     "model_module": "@jupyter-widgets/base",
     "model_name": "LayoutModel",
     "state": {
      "_model_module": "@jupyter-widgets/base",
      "_model_module_version": "1.2.0",
      "_model_name": "LayoutModel",
      "_view_count": null,
      "_view_module": "@jupyter-widgets/base",
      "_view_module_version": "1.2.0",
      "_view_name": "LayoutView",
      "align_content": null,
      "align_items": null,
      "align_self": null,
      "border": null,
      "bottom": null,
      "display": null,
      "flex": null,
      "flex_flow": null,
      "grid_area": null,
      "grid_auto_columns": null,
      "grid_auto_flow": null,
      "grid_auto_rows": null,
      "grid_column": null,
      "grid_gap": null,
      "grid_row": null,
      "grid_template_areas": null,
      "grid_template_columns": null,
      "grid_template_rows": null,
      "height": null,
      "justify_content": null,
      "justify_items": null,
      "left": null,
      "margin": null,
      "max_height": null,
      "max_width": null,
      "min_height": null,
      "min_width": null,
      "object_fit": null,
      "object_position": null,
      "order": null,
      "overflow": null,
      "overflow_x": null,
      "overflow_y": null,
      "padding": null,
      "right": null,
      "top": null,
      "visibility": null,
      "width": null
     }
    },
    "0f935546a6904c438c7e1bc91b782e82": {
     "model_module": "@jupyter-widgets/base",
     "model_name": "LayoutModel",
     "state": {
      "_model_module": "@jupyter-widgets/base",
      "_model_module_version": "1.2.0",
      "_model_name": "LayoutModel",
      "_view_count": null,
      "_view_module": "@jupyter-widgets/base",
      "_view_module_version": "1.2.0",
      "_view_name": "LayoutView",
      "align_content": null,
      "align_items": null,
      "align_self": null,
      "border": null,
      "bottom": null,
      "display": null,
      "flex": null,
      "flex_flow": null,
      "grid_area": null,
      "grid_auto_columns": null,
      "grid_auto_flow": null,
      "grid_auto_rows": null,
      "grid_column": null,
      "grid_gap": null,
      "grid_row": null,
      "grid_template_areas": null,
      "grid_template_columns": null,
      "grid_template_rows": null,
      "height": null,
      "justify_content": null,
      "justify_items": null,
      "left": null,
      "margin": null,
      "max_height": null,
      "max_width": null,
      "min_height": null,
      "min_width": null,
      "object_fit": null,
      "object_position": null,
      "order": null,
      "overflow": null,
      "overflow_x": null,
      "overflow_y": null,
      "padding": null,
      "right": null,
      "top": null,
      "visibility": null,
      "width": null
     }
    },
    "34f7e77ba1ad462e8281dfd3a7f1000d": {
     "model_module": "@jupyter-widgets/controls",
     "model_name": "HTMLModel",
     "state": {
      "_dom_classes": [],
      "_model_module": "@jupyter-widgets/controls",
      "_model_module_version": "1.5.0",
      "_model_name": "HTMLModel",
      "_view_count": null,
      "_view_module": "@jupyter-widgets/controls",
      "_view_module_version": "1.5.0",
      "_view_name": "HTMLView",
      "description": "",
      "description_tooltip": null,
      "layout": "IPY_MODEL_5d71443b2a124a129de92dec9b92cfc7",
      "placeholder": "​",
      "style": "IPY_MODEL_9ba02e58fbad4a8a922480dc5bd066f8",
      "value": " 2/4 [1:04:20&lt;1:29:48, 2694.16s/it]"
     }
    },
    "397daf3e283b4ee4887c2e79400d23ff": {
     "model_module": "@jupyter-widgets/controls",
     "model_name": "ProgressStyleModel",
     "state": {
      "_model_module": "@jupyter-widgets/controls",
      "_model_module_version": "1.5.0",
      "_model_name": "ProgressStyleModel",
      "_view_count": null,
      "_view_module": "@jupyter-widgets/base",
      "_view_module_version": "1.2.0",
      "_view_name": "StyleView",
      "bar_color": null,
      "description_width": "initial"
     }
    },
    "47d5e6c78b5f4e4eb4c5ce86cac59d3e": {
     "model_module": "@jupyter-widgets/controls",
     "model_name": "HTMLModel",
     "state": {
      "_dom_classes": [],
      "_model_module": "@jupyter-widgets/controls",
      "_model_module_version": "1.5.0",
      "_model_name": "HTMLModel",
      "_view_count": null,
      "_view_module": "@jupyter-widgets/controls",
      "_view_module_version": "1.5.0",
      "_view_name": "HTMLView",
      "description": "",
      "description_tooltip": null,
      "layout": "IPY_MODEL_0f935546a6904c438c7e1bc91b782e82",
      "placeholder": "​",
      "style": "IPY_MODEL_675f31b9cc204abcadac75d9dd02b3d0",
      "value": " 4/4 [18:11&lt;00:00, 272.78s/it]"
     }
    },
    "5abd47f3e3f14792bf8be4177adda4ab": {
     "model_module": "@jupyter-widgets/controls",
     "model_name": "ProgressStyleModel",
     "state": {
      "_model_module": "@jupyter-widgets/controls",
      "_model_module_version": "1.5.0",
      "_model_name": "ProgressStyleModel",
      "_view_count": null,
      "_view_module": "@jupyter-widgets/base",
      "_view_module_version": "1.2.0",
      "_view_name": "StyleView",
      "bar_color": null,
      "description_width": "initial"
     }
    },
    "5d71443b2a124a129de92dec9b92cfc7": {
     "model_module": "@jupyter-widgets/base",
     "model_name": "LayoutModel",
     "state": {
      "_model_module": "@jupyter-widgets/base",
      "_model_module_version": "1.2.0",
      "_model_name": "LayoutModel",
      "_view_count": null,
      "_view_module": "@jupyter-widgets/base",
      "_view_module_version": "1.2.0",
      "_view_name": "LayoutView",
      "align_content": null,
      "align_items": null,
      "align_self": null,
      "border": null,
      "bottom": null,
      "display": null,
      "flex": null,
      "flex_flow": null,
      "grid_area": null,
      "grid_auto_columns": null,
      "grid_auto_flow": null,
      "grid_auto_rows": null,
      "grid_column": null,
      "grid_gap": null,
      "grid_row": null,
      "grid_template_areas": null,
      "grid_template_columns": null,
      "grid_template_rows": null,
      "height": null,
      "justify_content": null,
      "justify_items": null,
      "left": null,
      "margin": null,
      "max_height": null,
      "max_width": null,
      "min_height": null,
      "min_width": null,
      "object_fit": null,
      "object_position": null,
      "order": null,
      "overflow": null,
      "overflow_x": null,
      "overflow_y": null,
      "padding": null,
      "right": null,
      "top": null,
      "visibility": null,
      "width": null
     }
    },
    "61dd15dfe9854d7abe61bc23d4d3908c": {
     "model_module": "@jupyter-widgets/controls",
     "model_name": "FloatProgressModel",
     "state": {
      "_dom_classes": [],
      "_model_module": "@jupyter-widgets/controls",
      "_model_module_version": "1.5.0",
      "_model_name": "FloatProgressModel",
      "_view_count": null,
      "_view_module": "@jupyter-widgets/controls",
      "_view_module_version": "1.5.0",
      "_view_name": "ProgressView",
      "bar_style": "",
      "description": "Dask Apply:  50%",
      "description_tooltip": null,
      "layout": "IPY_MODEL_c422a786d0dc4e5d9b492763eef77d4e",
      "max": 4,
      "min": 0,
      "orientation": "horizontal",
      "style": "IPY_MODEL_5abd47f3e3f14792bf8be4177adda4ab",
      "value": 2
     }
    },
    "675f31b9cc204abcadac75d9dd02b3d0": {
     "model_module": "@jupyter-widgets/controls",
     "model_name": "DescriptionStyleModel",
     "state": {
      "_model_module": "@jupyter-widgets/controls",
      "_model_module_version": "1.5.0",
      "_model_name": "DescriptionStyleModel",
      "_view_count": null,
      "_view_module": "@jupyter-widgets/base",
      "_view_module_version": "1.2.0",
      "_view_name": "StyleView",
      "description_width": ""
     }
    },
    "9aef190501f847a59635b7293aa2d6f4": {
     "model_module": "@jupyter-widgets/controls",
     "model_name": "HBoxModel",
     "state": {
      "_dom_classes": [],
      "_model_module": "@jupyter-widgets/controls",
      "_model_module_version": "1.5.0",
      "_model_name": "HBoxModel",
      "_view_count": null,
      "_view_module": "@jupyter-widgets/controls",
      "_view_module_version": "1.5.0",
      "_view_name": "HBoxView",
      "box_style": "",
      "children": [
       "IPY_MODEL_e52bf7624e0e4cdebb08b4cc7f218069",
       "IPY_MODEL_47d5e6c78b5f4e4eb4c5ce86cac59d3e"
      ],
      "layout": "IPY_MODEL_038bae90c0904211abc51b5a9c0b0ee0"
     }
    },
    "9ba02e58fbad4a8a922480dc5bd066f8": {
     "model_module": "@jupyter-widgets/controls",
     "model_name": "DescriptionStyleModel",
     "state": {
      "_model_module": "@jupyter-widgets/controls",
      "_model_module_version": "1.5.0",
      "_model_name": "DescriptionStyleModel",
      "_view_count": null,
      "_view_module": "@jupyter-widgets/base",
      "_view_module_version": "1.2.0",
      "_view_name": "StyleView",
      "description_width": ""
     }
    },
    "a810f68dc10f46ec9c7f46d29d2849c5": {
     "model_module": "@jupyter-widgets/base",
     "model_name": "LayoutModel",
     "state": {
      "_model_module": "@jupyter-widgets/base",
      "_model_module_version": "1.2.0",
      "_model_name": "LayoutModel",
      "_view_count": null,
      "_view_module": "@jupyter-widgets/base",
      "_view_module_version": "1.2.0",
      "_view_name": "LayoutView",
      "align_content": null,
      "align_items": null,
      "align_self": null,
      "border": null,
      "bottom": null,
      "display": null,
      "flex": null,
      "flex_flow": null,
      "grid_area": null,
      "grid_auto_columns": null,
      "grid_auto_flow": null,
      "grid_auto_rows": null,
      "grid_column": null,
      "grid_gap": null,
      "grid_row": null,
      "grid_template_areas": null,
      "grid_template_columns": null,
      "grid_template_rows": null,
      "height": null,
      "justify_content": null,
      "justify_items": null,
      "left": null,
      "margin": null,
      "max_height": null,
      "max_width": null,
      "min_height": null,
      "min_width": null,
      "object_fit": null,
      "object_position": null,
      "order": null,
      "overflow": null,
      "overflow_x": null,
      "overflow_y": null,
      "padding": null,
      "right": null,
      "top": null,
      "visibility": null,
      "width": null
     }
    },
    "c422a786d0dc4e5d9b492763eef77d4e": {
     "model_module": "@jupyter-widgets/base",
     "model_name": "LayoutModel",
     "state": {
      "_model_module": "@jupyter-widgets/base",
      "_model_module_version": "1.2.0",
      "_model_name": "LayoutModel",
      "_view_count": null,
      "_view_module": "@jupyter-widgets/base",
      "_view_module_version": "1.2.0",
      "_view_name": "LayoutView",
      "align_content": null,
      "align_items": null,
      "align_self": null,
      "border": null,
      "bottom": null,
      "display": null,
      "flex": null,
      "flex_flow": null,
      "grid_area": null,
      "grid_auto_columns": null,
      "grid_auto_flow": null,
      "grid_auto_rows": null,
      "grid_column": null,
      "grid_gap": null,
      "grid_row": null,
      "grid_template_areas": null,
      "grid_template_columns": null,
      "grid_template_rows": null,
      "height": null,
      "justify_content": null,
      "justify_items": null,
      "left": null,
      "margin": null,
      "max_height": null,
      "max_width": null,
      "min_height": null,
      "min_width": null,
      "object_fit": null,
      "object_position": null,
      "order": null,
      "overflow": null,
      "overflow_x": null,
      "overflow_y": null,
      "padding": null,
      "right": null,
      "top": null,
      "visibility": null,
      "width": null
     }
    },
    "dc60be6d3e9f491ea82e11d2a43f1e48": {
     "model_module": "@jupyter-widgets/controls",
     "model_name": "HBoxModel",
     "state": {
      "_dom_classes": [],
      "_model_module": "@jupyter-widgets/controls",
      "_model_module_version": "1.5.0",
      "_model_name": "HBoxModel",
      "_view_count": null,
      "_view_module": "@jupyter-widgets/controls",
      "_view_module_version": "1.5.0",
      "_view_name": "HBoxView",
      "box_style": "",
      "children": [
       "IPY_MODEL_61dd15dfe9854d7abe61bc23d4d3908c",
       "IPY_MODEL_34f7e77ba1ad462e8281dfd3a7f1000d"
      ],
      "layout": "IPY_MODEL_e28a041d57a74f3eb50086776904a6ca"
     }
    },
    "e28a041d57a74f3eb50086776904a6ca": {
     "model_module": "@jupyter-widgets/base",
     "model_name": "LayoutModel",
     "state": {
      "_model_module": "@jupyter-widgets/base",
      "_model_module_version": "1.2.0",
      "_model_name": "LayoutModel",
      "_view_count": null,
      "_view_module": "@jupyter-widgets/base",
      "_view_module_version": "1.2.0",
      "_view_name": "LayoutView",
      "align_content": null,
      "align_items": null,
      "align_self": null,
      "border": null,
      "bottom": null,
      "display": null,
      "flex": null,
      "flex_flow": null,
      "grid_area": null,
      "grid_auto_columns": null,
      "grid_auto_flow": null,
      "grid_auto_rows": null,
      "grid_column": null,
      "grid_gap": null,
      "grid_row": null,
      "grid_template_areas": null,
      "grid_template_columns": null,
      "grid_template_rows": null,
      "height": null,
      "justify_content": null,
      "justify_items": null,
      "left": null,
      "margin": null,
      "max_height": null,
      "max_width": null,
      "min_height": null,
      "min_width": null,
      "object_fit": null,
      "object_position": null,
      "order": null,
      "overflow": null,
      "overflow_x": null,
      "overflow_y": null,
      "padding": null,
      "right": null,
      "top": null,
      "visibility": null,
      "width": null
     }
    },
    "e52bf7624e0e4cdebb08b4cc7f218069": {
     "model_module": "@jupyter-widgets/controls",
     "model_name": "FloatProgressModel",
     "state": {
      "_dom_classes": [],
      "_model_module": "@jupyter-widgets/controls",
      "_model_module_version": "1.5.0",
      "_model_name": "FloatProgressModel",
      "_view_count": null,
      "_view_module": "@jupyter-widgets/controls",
      "_view_module_version": "1.5.0",
      "_view_name": "ProgressView",
      "bar_style": "success",
      "description": "Dask Apply: 100%",
      "description_tooltip": null,
      "layout": "IPY_MODEL_a810f68dc10f46ec9c7f46d29d2849c5",
      "max": 4,
      "min": 0,
      "orientation": "horizontal",
      "style": "IPY_MODEL_397daf3e283b4ee4887c2e79400d23ff",
      "value": 4
     }
    }
   }
  }
 },
 "nbformat": 4,
 "nbformat_minor": 4
}
